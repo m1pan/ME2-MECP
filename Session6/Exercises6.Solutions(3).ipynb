{
 "cells": [
  {
   "cell_type": "code",
   "execution_count": 1,
   "metadata": {},
   "outputs": [],
   "source": [
    "import numpy as np\n",
    "import matplotlib.pyplot as pl"
   ]
  },
  {
   "cell_type": "markdown",
   "metadata": {},
   "source": [
    "# Task A"
   ]
  },
  {
   "cell_type": "code",
   "execution_count": 2,
   "metadata": {},
   "outputs": [],
   "source": [
    "def myfunc(x):\n",
    "    \n",
    "    # Task B\n",
    "    f = x\n",
    "    g = 1\n",
    "    p = 5*x\n",
    "\n",
    "\n",
    "    \n",
    "    return (f,g,p)"
   ]
  },
  {
   "cell_type": "code",
   "execution_count": 2,
   "metadata": {},
   "outputs": [],
   "source": [
    "# definition of functions, to be used in the func above, as needed\n",
    "    \n",
    "    # Task A\n",
    "    f = 2*x\n",
    "    g = 2\n",
    "    p = np.cos(3*x)\n",
    "\n",
    "    # Task B\n",
    "    f = x\n",
    "    g = 1\n",
    "    p = 5*x\n",
    "\n",
    "    # Task C\n",
    "    # nuclear rod\n",
    "    K = 16.75\n",
    "    R = 0.015\n",
    "    f = 1 / x\n",
    "    g = 0\n",
    "    p = -10**8*np.exp(-x/R)/(x*K)\n",
    "    "
   ]
  },
  {
   "cell_type": "code",
   "execution_count": 4,
   "metadata": {},
   "outputs": [],
   "source": [
    "# Task A\n",
    "# Gaussian function, as defined last year\n",
    "def MyGauss(A,b):\n",
    "    \n",
    "    # number of equations\n",
    "    n = len(b)\n",
    "    \n",
    "    # eliminate the unknowns, from first to (n-1)th unknown, to form an upper triangular matrix\n",
    "    for i in range(0,n-1):\n",
    "        # eliminate the i-th unknown from the (i+1)th row downwards\n",
    "        # i.e. set the zeros in column i.\n",
    "        for j in range(i+1,n):\n",
    "            # eliminate on row j\n",
    "\n",
    "            # A(i,i) is the pivot coefficient\n",
    "            p = A[j,i] / A[i,i]\n",
    "        \n",
    "            # compute the new elements of row j in matrix A\n",
    "            # use slicing\n",
    "            A[j,:] = A[j,:] - p * A[i,:]\n",
    "            # or, alternatively, loop for every cell of row j\n",
    "            #for k in range(i,n):\n",
    "            #    A[j,k] = A[j,k] - p * A[i,k]\n",
    "\n",
    "            # compute the new element of row j in vector b\n",
    "            b[j] = b[j] - p * b[i]\n",
    "    \n",
    "    # evauate, by back substitution the solution\n",
    "    # start from the last unknown and go upward till the first unknown\n",
    "    x = np.zeros(n)\n",
    "    for i in range(n-1,-1,-1):\n",
    "        # contribution from b (right hand side of the equation)\n",
    "        x[i] = b[i] / A[i,i]\n",
    "        # contribution from the other (already evaluated) unknowns\n",
    "        # (within the left hand side of the equation)\n",
    "        for k in range(i+1,n):\n",
    "            x[i] = x[i] - A[i,k] * x[k] / A[i,i]\n",
    "\n",
    "    return x\n",
    "\n"
   ]
  },
  {
   "cell_type": "code",
   "execution_count": 4,
   "metadata": {},
   "outputs": [],
   "source": [
    "# Task A1\n",
    "def myodebc(a,b,ya,yb,N):\n",
    "\n",
    "\n",
    "    # define the range\n",
    "    x = np.linspace(a,b,N+1)\n",
    "    # find the interval\n",
    "    h = x[1] - x[0]\n",
    "\n",
    "\n",
    "    # build a set of algebraic equation A * y = b\n",
    "    # where A is N+1 by N+1\n",
    "    A = np.zeros((N+1,N+1))\n",
    "    b = np.zeros(N+1)\n",
    "    # set the boundary conditions\n",
    "    A[0,0] = 1\n",
    "    b[0] = ya\n",
    "    A[N,N] = 1\n",
    "    b[N] = yb\n",
    "    # set equations for the interior points\n",
    "    for i in range(1,N):\n",
    "        # evaluate the functions f, g and p at this x\n",
    "        (f, g, p) = myfunc(x[i])\n",
    "        A[i,i-1] = 1/h**2 - f / (2*h)\n",
    "        A[i,i] = g - 2 / h**2\n",
    "        A[i,i+1] = 1/h**2 + f / (2*h)\n",
    "        b[i] = p\n",
    "\n",
    "    y = MyGauss(A,b)\n",
    "\n",
    "    return (x,y)\n"
   ]
  },
  {
   "cell_type": "code",
   "execution_count": 7,
   "metadata": {},
   "outputs": [
    {
     "data": {
      "image/png": "[encoded data removed]",
      "text/plain": [
       "<Figure size 432x288 with 1 Axes>"
      ]
     },
     "metadata": {
      "needs_background": "light"
     },
     "output_type": "display_data"
    }
   ],
   "source": [
    "# Task A2\n",
    "(x,y) = myodebc(0,np.pi,1.5,0,10)\n",
    "pl.plot(x,y,'bo')\n",
    "# Task A3\n",
    "(x,y) = myodebc(0,np.pi,1.5,0,100)\n",
    "pl.plot(x,y,'rd')\n",
    "pl.grid()"
   ]
  },
  {
   "cell_type": "markdown",
   "metadata": {},
   "source": [
    "# Task B"
   ]
  },
  {
   "cell_type": "code",
   "execution_count": 3,
   "metadata": {},
   "outputs": [],
   "source": [
    "# Task B1\n",
    "def myodebc2(a,b,bca,bcb,N,R):\n",
    "\n",
    "    # define the range\n",
    "    x = np.linspace(a,b,N+1)\n",
    "    # find the interval\n",
    "    h = x[1] - x[0]\n",
    "\n",
    "\n",
    "    # build a set of algebraic equation A * y = b\n",
    "    # where A is N+1 by N+1\n",
    "    A = np.zeros((N+1,N+1))\n",
    "    b = np.zeros(N+1)\n",
    "    # set the boundary conditions\n",
    "    # boundary a: we need the forward scheme\n",
    "    A[0,0] = R[1] - R[0]/h\n",
    "    A[0,1] = R[0]/h\n",
    "    b[0] = bca\n",
    "    \n",
    "    # boundary b: we need the backward scheme\n",
    "    A[N,N-1] = -R[2]/h\n",
    "    A[N,N] = R[2]/h + R[3]\n",
    "    b[N] = bcb\n",
    "\n",
    "        \n",
    "    # set equations for the interior points\n",
    "    for i in range(1,N):\n",
    "        # evaluate the functions f, g and p at this x\n",
    "        (f, g, p) = myfunc(x[i])\n",
    "        A[i,i-1] = 1/h**2 - f / (2*h)\n",
    "        A[i,i] = g - 2 / h**2\n",
    "        A[i,i+1] = 1/h**2 + f / (2*h)\n",
    "        b[i] = p\n",
    "            \n",
    "    #y = MyGauss(A,b)\n",
    "    y = np.dot(np.linalg.inv(A),b)\n",
    "    \n",
    "    \n",
    "    return (x,y)\n"
   ]
  },
  {
   "cell_type": "code",
   "execution_count": 5,
   "metadata": {},
   "outputs": [
    {
     "data": {
      "image/png": "[encoded data removed]",
      "text/plain": [
       "<Figure size 432x288 with 1 Axes>"
      ]
     },
     "metadata": {
      "needs_background": "light"
     },
     "output_type": "display_data"
    },
    {
     "data": {
      "image/png": "[encoded data removed]",
      "text/plain": [
       "<Figure size 432x288 with 1 Axes>"
      ]
     },
     "metadata": {
      "needs_background": "light"
     },
     "output_type": "display_data"
    }
   ],
   "source": [
    "# Task B2\n",
    "(x,y) = myodebc2(0,2,0,5,50,[1,0,0,1])\n",
    "pl.plot(x,y,'bo')\n",
    "pl.grid()\n",
    "pl.show()\n",
    "# Task B3\n",
    "(x,y) = myodebc2(0,2,5,0,50,[0,1,1,0])\n",
    "pl.plot(x,y,'bo')\n",
    "pl.grid()"
   ]
  },
  {
   "cell_type": "markdown",
   "metadata": {},
   "source": [
    "# Task C"
   ]
  },
  {
   "cell_type": "code",
   "execution_count": 24,
   "metadata": {},
   "outputs": [
    {
     "data": {
      "image/png": "[encoded data removed]",
      "text/plain": [
       "<Figure size 432x288 with 1 Axes>"
      ]
     },
     "metadata": {
      "needs_background": "light"
     },
     "output_type": "display_data"
    }
   ],
   "source": [
    "# Task C\n",
    "# Nuclear rod\n",
    "\n",
    "h = 6*10**4\n",
    "K = 16.75\n",
    "R = 0.015\n",
    "w = 0.003\n",
    "Tw = 473\n",
    "Tw = 490\n",
    "# 1\n",
    "# set the b.c.\n",
    "c = np.zeros(4)\n",
    "# at boundary a\n",
    "c[0] = 1\n",
    "c[1] = 0\n",
    "bca = -6.32*10**5 / K\n",
    "# at boundary b\n",
    "c[2] = 1\n",
    "c[3] = h / K\n",
    "bcb = h / K * Tw\n",
    "\n",
    "(x,y) = myodebc2(R,R+w,bca,bcb,50,c)\n",
    "pl.plot(x,y,'bo')\n",
    "pl.grid()"
   ]
  },
  {
   "cell_type": "markdown",
   "metadata": {},
   "source": [
    "# Task D"
   ]
  },
  {
   "cell_type": "code",
   "execution_count": 12,
   "metadata": {},
   "outputs": [],
   "source": [
    "def funcN(t,y):\n",
    "    f = np.ndarray(len(y))\n",
    "    \n",
    "    f[0] = y[1]\n",
    "    f[1] = y[2]\n",
    "    f[2] = -0.5*y[0]*y[2]\n",
    "\n",
    "    return f"
   ]
  },
  {
   "cell_type": "code",
   "execution_count": 13,
   "metadata": {},
   "outputs": [],
   "source": [
    "# System of N ODEs with Forward Euler (same as defined in session 5)\n",
    "def FwEulerN(Y0,t0,tend,h):\n",
    "    # determine the number of equations, i.e. variables\n",
    "    Nv = len(Y0)\n",
    "    # compose nodal times\n",
    "    t = np.arange(t0,tend+h,h)\n",
    "    # determine the number of time steps\n",
    "    Nt = len(t)\n",
    "    # allocate output array\n",
    "    Y = np.ndarray((Nv,Nt))\n",
    "    # initialise the solutions\n",
    "    t[0] = t0\n",
    "    Y[:,0] = Y0\n",
    "    # compute the solution incrementally at subsequent time steps\n",
    "    for it in range(1,Nt):\n",
    "        f = funcN(t[it-1],Y[:,it-1])\n",
    "        for iv in range(0,Nv):\n",
    "            Y[iv,it] = Y[iv,it-1] + f[iv] * h\n",
    "    return (t,Y)"
   ]
  },
  {
   "cell_type": "code",
   "execution_count": 17,
   "metadata": {},
   "outputs": [],
   "source": [
    "# Lagrangian interpolation functions (same as defined in session 3)\n",
    "\n",
    "# Langrangian polynomial\n",
    "# compute the Lagrangian polynomials j, given nodes xn at a given point xp\n",
    "def Lagrangian(j,xn,xp):\n",
    "    # establish the number of nodes\n",
    "    n = len(xn)\n",
    "    # the order of the polynomial will then be n-1\n",
    "    \n",
    "    # set the initial value of the polynomial to 1\n",
    "    L = 1\n",
    "    # range of k is from 0 to n-1 (the order of the polynomial)\n",
    "    for k in range(0,n):\n",
    "        # exclude the case k == j\n",
    "        if k != j:\n",
    "            L *= (xp-xn[k]) / (xn[j]-xn[k])\n",
    "    return L\n",
    "\n",
    "\n",
    "def LagInterp(xn,yn,x):\n",
    "    N = len(xn)\n",
    "    # establish the order of the interpolating polynomial, N-1\n",
    "    n = N - 1\n",
    "    y = np.ndarray(len(x))\n",
    "    # interpolate for all the values of x in the interpolating range\n",
    "    for i in range(len(x)):\n",
    "        # evaluate pn(xp)\n",
    "        yp = 0\n",
    "        # use Langrangian polynomial up to n, included\n",
    "        for j in range(0,n+1):\n",
    "            yp += yn[j] * Lagrangian(j,xn,x[i])\n",
    "        # add the curren value of yp to the list of y\n",
    "        y[i] = yp\n",
    "    return y"
   ]
  },
  {
   "cell_type": "code",
   "execution_count": 18,
   "metadata": {},
   "outputs": [],
   "source": [
    "# Numerical integration with Trapezium rule (same as defined in session 2)\n",
    "\n",
    "def trapz(x,y):\n",
    "    # get the number of subintervals\n",
    "    N = len(x) - 1\n",
    "    # compute the integral\n",
    "    # set range for the trapezia: there are as many trapezia as the number of intervals\n",
    "    R = range(0,N)\n",
    "    S = 0\n",
    "    for i in R:\n",
    "        # compute the area of this single trapezium (remind yourself the area of a trapezium)\n",
    "        S += 0.5 * (y[i+1] + y[i]) * (x[i+1] - x[i])\n",
    "    return S"
   ]
  },
  {
   "cell_type": "code",
   "execution_count": 19,
   "metadata": {},
   "outputs": [
    {
     "name": "stdout",
     "output_type": "stream",
     "text": [
      "Iterations needed: 6\n",
      "d99: 4.92   d1: 1.7268833654847116   d2: 0.6656019785179426\n"
     ]
    },
    {
     "data": {
      "image/png": "[encoded data removed]",
      "text/plain": [
       "<Figure size 432x288 with 1 Axes>"
      ]
     },
     "metadata": {
      "needs_background": "light"
     },
     "output_type": "display_data"
    },
    {
     "data": {
      "image/png": "[encoded data removed]",
      "text/plain": [
       "<Figure size 432x288 with 1 Axes>"
      ]
     },
     "metadata": {
      "needs_background": "light"
     },
     "output_type": "display_data"
    }
   ],
   "source": [
    "# Blasius\n",
    "Nitmax = 10000 # we need to stop iteration if they become too large: the solution is diverging\n",
    "tol = 1.0e-5 # desired tolerance for the error\n",
    "\n",
    "# set the initial conditions\n",
    "Y0 = np.ndarray(3)\n",
    "# Y[0] contains f(at 0); Y[1] contains g(at 0); Y[2] contains h(at 0)\n",
    "Y0[0] = 0 # f(at 0)\n",
    "Y0[1] = 0 # g(at 0) ie velocity at 0\n",
    "gfinal = 1 # g(at eta_max) ie velocity at eta_max\n",
    "# Y0[0], Y0[1] and gfinal are the three physical boundary conditions, as specified by the problem\n",
    "\n",
    "# this is the initial condition for the marching direct scheme. It is not a condition imposed by the problem\n",
    "Y0[2] = 1 # h(at 0)acceleration at 0: this is a guess. it will readjusted during iterations\n",
    "\n",
    "# set the domain\n",
    "eta0 = 0 # lower boundary\n",
    "etamax = 10 # upper boundary\n",
    "N = 1000 # number of nodes\n",
    "Deta = (etamax-eta0)/N  # eta step\n",
    "\n",
    "# initialisations\n",
    "err = 100  # set the error to a large value\n",
    "Nit = 0    # count the iterations\n",
    "hold = 0  # h(at 0)\n",
    "gold = 0  # g(at 0) \n",
    "\n",
    "# iterate until reaching desired tolerance or exceed too many iterations\n",
    "while err > tol and Nit < Nitmax:\n",
    "    Nit += 1 # count iterations\n",
    "    \n",
    "    # solve with Forward Euler with current Y0 initial conditions. Y0[0], Y0[1] are given\n",
    "    # by the problem specs, Y0[2] has been guessed\n",
    "    (eta,Y) = FwEulerN(Y0,eta0,etamax,Deta)\n",
    "    # Y[0,:] contains the solution f across the domain\n",
    "    # Y[1,:] contains the velocity g across the domain\n",
    "    # Y[2,:] contains the acceleration h across the domain\n",
    "    \n",
    "    g = np.array([gold,Y[1,-1]]) # set the two points of g for interpolation: the old g and the value just computed\n",
    "    h = np.array([hold,Y0[2]])   # set the two points of h for interpolation: the old h and the value just computed\n",
    "    hint = LagInterp(g,h,np.array([gfinal])) # calculate the new guess for h at gfinal\n",
    "    # update old points with current values\n",
    "    gold = Y[1,-1]\n",
    "    hold = Y0[2]\n",
    "    \n",
    "    # set the new estimated value for h(at 0)\n",
    "    Y0[2] = hint[0]\n",
    "    \n",
    "    # assess the error\n",
    "    err = abs(Y[1,-1]-gfinal)\n",
    "\n",
    "print('Iterations needed: '+str(Nit))\n",
    "\n",
    "\n",
    "# plotting section\n",
    "\n",
    "f = Y[0,:]  # displacement\n",
    "u = Y[1,:]  # velocity\n",
    "v = 0.5*(eta*u-f) #\n",
    "\n",
    "\n",
    "# calculate thicknesses\n",
    "diff = abs(u-0.99*max(u))\n",
    "eta99 = diff.argmin()\n",
    "# displacement thickness delta1 = int 0->infinity of 1-u(eta)\n",
    "d1 = trapz(eta,max(u)-u)\n",
    "# momentum thickness delta2 = int 0->infinity of u(eta)*(1-u(eta))\n",
    "d2 = trapz(eta,u*(max(u)-u))\n",
    "print('d99: '+str(eta[eta99])+'   d1: '+str(d1)+'   d2: '+str(d2))\n",
    "\n",
    "# plot u and thicknesses\n",
    "pl.plot(u,eta)\n",
    "pl.grid()\n",
    "pl.plot([0,max(u)],[eta[eta99],eta[eta99]])\n",
    "pl.plot([0,max(u)],[d1,d1])\n",
    "pl.plot([0,max(u)],[d2,d2])\n",
    "pl.xlabel('normalised u')\n",
    "pl.ylabel('eta')\n",
    "pl.show()\n",
    "\n",
    "# plot v\n",
    "pl.plot(v,eta)\n",
    "pl.grid()\n",
    "pl.xlabel('normalised v')\n",
    "pl.ylabel('eta')\n",
    "pl.show()\n",
    "\n",
    "\n"
   ]
  },
  {
   "cell_type": "code",
   "execution_count": null,
   "metadata": {},
   "outputs": [],
   "source": []
  },
  {
   "cell_type": "code",
   "execution_count": null,
   "metadata": {},
   "outputs": [],
   "source": []
  }
 ],
 "metadata": {
  "kernelspec": {
   "display_name": "Python 3",
   "language": "python",
   "name": "python3"
  },
  "language_info": {
   "codemirror_mode": {
    "name": "ipython",
    "version": 3
   },
   "file_extension": ".py",
   "mimetype": "text/x-python",
   "name": "python",
   "nbconvert_exporter": "python",
   "pygments_lexer": "ipython3",
   "version": "3.7.4"
  }
 },
 "nbformat": 4,
 "nbformat_minor": 2
}
