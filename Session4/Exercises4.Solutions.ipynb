{
 "cells": [
  {
   "cell_type": "code",
   "execution_count": 1,
   "metadata": {},
   "outputs": [],
   "source": [
    "import numpy as np\n",
    "import matplotlib.pyplot as pl"
   ]
  },
  {
   "cell_type": "code",
   "execution_count": 39,
   "metadata": {},
   "outputs": [],
   "source": [
    "def f(x): \n",
    "    y = 1/(1+x**2)\n",
    "    return y"
   ]
  },
  {
   "cell_type": "markdown",
   "metadata": {},
   "source": [
    "# Task A"
   ]
  },
  {
   "cell_type": "code",
   "execution_count": 3,
   "metadata": {},
   "outputs": [],
   "source": [
    "# Task A1\n",
    "# Simpson\n",
    "def Simpson(h,yn):\n",
    "    # number of nodal points\n",
    "    N = len(yn)\n",
    "    # initialise sum\n",
    "    S = 0\n",
    "    # loop every two points, and use the three points for Simpson rule\n",
    "    # current point yn[i] and successive two points yn[i+1], yn[i+2]\n",
    "    for i in range(0,N-2,2):\n",
    "        S += h/3 * ( yn[i] + 4*yn[i+1] + yn[i+2] )\n",
    "    return S"
   ]
  },
  {
   "cell_type": "code",
   "execution_count": null,
   "metadata": {},
   "outputs": [],
   "source": [
    "# Evaluate the integral of sin(x)\n",
    "dx = 0.01\n",
    "xn = np.arange(0,1.0+dx,dx)\n",
    "yn = f(xn)\n",
    "# estabish the step\n",
    "h = xn[1] - xn[0]\n",
    "# compute integral with Simpson rule\n",
    "S = Simpson(h,yn)\n",
    "print(S)    "
   ]
  },
  {
   "cell_type": "code",
   "execution_count": 8,
   "metadata": {},
   "outputs": [
    {
     "name": "stdout",
     "output_type": "stream",
     "text": [
      "Integral:  0.7853921568627451\n",
      "Analytical:  0.7853981633974483\n",
      "Number of nodes used:  5\n",
      "Error achieved:  0.00013725490196078531\n"
     ]
    }
   ],
   "source": [
    "# adaptive Simpson\n",
    "\n",
    "# set a desired tolerance\n",
    "tol = 1.0e-2\n",
    "# set the domain of integration\n",
    "a = 0.0\n",
    "b = 1.0\n",
    "\n",
    "# start with minimal number of sub intervals: one\n",
    "# M is number of subintervals\n",
    "M = 1\n",
    "# determine the the nodal points for the present interval\n",
    "xn = np.linspace(a,b,M+1)\n",
    "yn = f(xn)\n",
    "# determine the size of the interval\n",
    "h = xn[1] - xn[0]\n",
    "# compute integral with Simpson rule\n",
    "S = Simpson(h,yn)\n",
    "# set a fake error larger than the tolerance, to enter the while loop\n",
    "err = tol * 10\n",
    "# keep reducing the interval size if tolerance not reached\n",
    "while err >= tol:\n",
    "    # half the size of subintervals\n",
    "    M = 2 * M\n",
    "    # determine the the nodal points for the present intervals\n",
    "    xn = np.linspace(a,b,M+1)   \n",
    "    yn = f(xn)\n",
    "    # determine the size of the intervals\n",
    "    h = xn[1] - xn[0]\n",
    "    # compute integral with Simpson rule\n",
    "    Shalf = Simpson(h,yn)\n",
    "    # compute the error, between present half size and previous size\n",
    "    err = 1/15*np.abs(Shalf - S)\n",
    "    # set current size as previous\n",
    "    S = Shalf\n",
    "\n",
    "# analytical solution:\n",
    "Sa = np.pi/4\n",
    "\n",
    "print('Integral: ',S)\n",
    "print('Analytical: ',Sa)\n",
    "print('Number of nodes used: ',M+1)\n",
    "print('Error achieved: ',err)"
   ]
  },
  {
   "cell_type": "markdown",
   "metadata": {},
   "source": [
    "# Task B"
   ]
  },
  {
   "cell_type": "code",
   "execution_count": 15,
   "metadata": {},
   "outputs": [],
   "source": [
    "# Task B\n",
    "# Binomial coefficient\n",
    "def Fact(n):\n",
    "    f = 1\n",
    "    for i in range(1,n+1):\n",
    "        f *= i\n",
    "    return f\n",
    "\n",
    "def BinCoeff(n,k):\n",
    "    # as defined in the formula\n",
    "    B = Fact(n)/(Fact(k)*Fact(n-k))\n",
    "    return B\n",
    "    "
   ]
  },
  {
   "cell_type": "code",
   "execution_count": 16,
   "metadata": {},
   "outputs": [],
   "source": [
    "# k-th derivative with forward scheme\n",
    "def Derivative(yn,h,k):\n",
    "    # yn: the nodal points\n",
    "    # h: the size of intervals\n",
    "    # k: order of derivative\n",
    "    \n",
    "    # number of nodes\n",
    "    N = len(yn)\n",
    "    # set derivative array with N-k nodes: remember that for every order we loose a node\n",
    "    dyn = np.ndarray(N-k)\n",
    "    # loop over the nodes where we need to compute the derivative\n",
    "    for n in range(0,N-k):\n",
    "        # computing derivative for node n\n",
    "        # set the derivative for node n to zero\n",
    "        dyn[n] = 0\n",
    "        # apply the formula for forward scheme\n",
    "        for i in range(0,k+1):\n",
    "            dyn[n] += (-1)**i*BinCoeff(k,i)*yn[n+k-i] \n",
    "        # multiply by factor 1/h**k\n",
    "        dyn[n] = dyn[n] / h**k\n",
    "    return dyn\n",
    "          "
   ]
  },
  {
   "cell_type": "code",
   "execution_count": 17,
   "metadata": {},
   "outputs": [],
   "source": [
    "# k-th derivative with backward scheme\n",
    "def DerivativeB(yn,h,k):\n",
    "    # yn: the nodal points\n",
    "    # h: the size of intervals\n",
    "    # k: order of derivative\n",
    "    \n",
    "    # number of nodes\n",
    "    N = len(yn)\n",
    "    # set derivative array with N-k nodes: remember that for every order we loose a node\n",
    "    dyn = np.ndarray(N-k)\n",
    "    # loop over the nodes where we need to compute the derivative\n",
    "    for n in range(k,N):\n",
    "        # computing derivative for node n\n",
    "        # set the derivative for node n to zero\n",
    "        dyn[n-k] = 0\n",
    "        # apply the formula for backward scheme\n",
    "        for i in range(0,k+1):\n",
    "            dyn[n-k] += (-1)**i*BinCoeff(k,i)*yn[n-i] \n",
    "        # multiply by factor 1/h**k\n",
    "        dyn[n-k] = dyn[n-k] / h**k\n",
    "    return dyn"
   ]
  },
  {
   "cell_type": "markdown",
   "metadata": {},
   "source": [
    "# Task C"
   ]
  },
  {
   "cell_type": "code",
   "execution_count": 18,
   "metadata": {},
   "outputs": [],
   "source": [
    "# Gauss elimination: copied and pasted from Session 2\n",
    "def MyGauss(A,b):\n",
    "    \n",
    "    # number of equations\n",
    "    n = len(b)\n",
    "    \n",
    "    # eliminate the unknowns, from first to (n-1)th unknown, to form an upper triangular matrix\n",
    "    for i in range(0,n-1):\n",
    "        # eliminate the i-th unknown from the (i+1)th row downwards\n",
    "        # i.e. set the zeros in column i.\n",
    "        for j in range(i+1,n):\n",
    "            # eliminate on row j\n",
    "\n",
    "            # A(i,i) is the pivot coefficient\n",
    "            p = A[j,i] / A[i,i]\n",
    "        \n",
    "            # compute the new elements of row j in matrix A\n",
    "            # use slicing\n",
    "            #A[j,:] = A[j,:] - p * A[i,:]\n",
    "            # or, alternatively, loop for every cell of row j\n",
    "            #for k in range(i,n):\n",
    "            #    A[j,k] = A[j,k] - p * A[i,k]\n",
    "            A[j,:] = A[j,:] - p * A[i,:]\n",
    "\n",
    "            # compute the new element of row j in vector b\n",
    "            b[j] = b[j] - p * b[i]\n",
    "    \n",
    "    \n",
    "    # evauate, by back substitution the solution\n",
    "    # start from the last unknown and go upward till the first unknown\n",
    "    x = np.zeros(n)\n",
    "    for i in range(n-1,-1,-1):\n",
    "        # contribution from b (right hand side of the equation)\n",
    "        x[i] = b[i] / A[i,i]\n",
    "        # contribution from the other (already evaluated) unknowns\n",
    "        # (within the left hand side of the equation)\n",
    "        for k in range(i+1,n):\n",
    "            x[i] = x[i] - A[i,k] * x[k] / A[i,i]\n",
    "\n",
    "    return x"
   ]
  },
  {
   "cell_type": "code",
   "execution_count": 19,
   "metadata": {},
   "outputs": [],
   "source": [
    "def Spline(xn,yn,bclower,bcupper,x):\n",
    "    Nx = len(xn)\n",
    "    y = np.zeros(len(x))\n",
    "    # determine cubic coefficients aj, bj, cj, dj\n",
    "    # there need to be ns = Nx - 1 cubic splines\n",
    "    ns = Nx - 1\n",
    "\n",
    "    aj = np.ndarray(ns)\n",
    "    bj = np.ndarray(ns)\n",
    "    cj = np.ndarray(ns)\n",
    "    dj = np.ndarray(ns)\n",
    "\n",
    "    # form the matrix A (of unknown)\n",
    "    A = np.zeros((Nx,Nx))\n",
    "    b = np.zeros(Nx)\n",
    "\n",
    "    A[0,0] = 1\n",
    "    b[0] = bclower\n",
    "    A[-1,-1] = 1\n",
    "    b[-1] = bcupper\n",
    "    for j in range(1,ns):\n",
    "        A[j,j-1] = 1 / (xn[j]-xn[j-1])\n",
    "        A[j,j] = 2 / (xn[j]-xn[j-1]) + 2 / (xn[j+1]-xn[j])\n",
    "        A[j,j+1] = 1 / (xn[j+1]-xn[j])\n",
    "\n",
    "        b[j] = 3 * ( (yn[j]-yn[j-1]) / (xn[j]-xn[j-1])**2 + (yn[j+1]-yn[j]) / (xn[j+1]-xn[j])**2 )\n",
    "\n",
    "    # invert the matrix\n",
    "    #v = np.linalg.inv(A).dot(b)\n",
    "    v = MyGauss(A,b)\n",
    "    # determine the coefficients\n",
    "    for j in range(0,ns):\n",
    "        aj[j] = yn[j]\n",
    "        bj[j] = v[j]\n",
    "        cj[j] = 3*(yn[j+1]-yn[j])/(xn[j+1]-xn[j])**2 - (v[j+1]+2*v[j])/(xn[j+1]-xn[j])\n",
    "        dj[j] = -2*(yn[j+1]-yn[j])/(xn[j+1]-xn[j])**3 + (v[j+1]+v[j])/(xn[j+1]-xn[j])**2\n",
    "\n",
    "    # interpolate with spline\n",
    "    for j in range(0,ns):\n",
    "        y[(xn[j]<=x) & (x<=xn[j+1])] = aj[j] + bj[j]*(x[(xn[j]<=x) & (x<=xn[j+1])]-xn[j]) +  \\\n",
    "              cj[j]*(x[(xn[j]<=x) & (x<=xn[j+1])]-xn[j])**2 + dj[j]*(x[(xn[j]<=x) & (x<=xn[j+1])]-xn[j])**3\n",
    "        \n",
    "    return y"
   ]
  },
  {
   "cell_type": "code",
   "execution_count": 22,
   "metadata": {},
   "outputs": [
    {
     "data": {
      "image/png": "[encoded data removed]",
      "text/plain": [
       "<Figure size 432x288 with 1 Axes>"
      ]
     },
     "metadata": {
      "needs_background": "light"
     },
     "output_type": "display_data"
    }
   ],
   "source": [
    "# Task C\n",
    "# read in the trajectory points from data file\n",
    "f = open('Rocket.txt','r')\n",
    "temp = f.readlines()\n",
    "f.close()\n",
    "# clean the data\n",
    "yn = []\n",
    "for value in temp:\n",
    "    yn += [int(value)]\n",
    "yn = np.array(yn)\n",
    "# set the time axis\n",
    "tn = tn = np.linspace(0,1300,len(yn))\n",
    "# plot the trajectory\n",
    "pl.scatter(tn,yn)\n",
    "pl.grid()\n"
   ]
  },
  {
   "cell_type": "code",
   "execution_count": 25,
   "metadata": {},
   "outputs": [
    {
     "data": {
      "image/png": "[encoded data removed]",
      "text/plain": [
       "<Figure size 432x288 with 1 Axes>"
      ]
     },
     "metadata": {
      "needs_background": "light"
     },
     "output_type": "display_data"
    },
    {
     "data": {
      "image/png": "[encoded data removed]",
      "text/plain": [
       "<Figure size 432x288 with 1 Axes>"
      ]
     },
     "metadata": {
      "needs_background": "light"
     },
     "output_type": "display_data"
    }
   ],
   "source": [
    "# Task C2\n",
    "# determine velocity\n",
    "k = 1\n",
    "h = tn[1] - tn[0]\n",
    "dyn = Derivative(yn,h,k)\n",
    "pl.plot(tn[:-k],dyn,c='Red')\n",
    "pl.grid()\n",
    "pl.show()\n",
    "\n",
    "# determine acceleration\n",
    "k = 2\n",
    "dyn = Derivative(yn,h,k)\n",
    "pl.plot(tn[:-k],dyn,c='Blue')\n",
    "pl.grid()\n",
    "pl.show()"
   ]
  },
  {
   "cell_type": "code",
   "execution_count": 30,
   "metadata": {},
   "outputs": [
    {
     "data": {
      "image/png": "[encoded data removed]",
      "text/plain": [
       "<Figure size 432x288 with 1 Axes>"
      ]
     },
     "metadata": {
      "needs_background": "light"
     },
     "output_type": "display_data"
    }
   ],
   "source": [
    "# Task C3\n",
    "# set the domain of interpolation\n",
    "t = np.linspace(0,1300,140)\n",
    "bclower = 0\n",
    "bcupper = 0\n",
    "y = Spline(tn,yn,bclower,bcupper,t)\n",
    "pl.plot(t,y,c='Red')\n",
    "pl.grid()"
   ]
  },
  {
   "cell_type": "code",
   "execution_count": 31,
   "metadata": {},
   "outputs": [
    {
     "data": {
      "image/png": "[encoded data removed]",
      "text/plain": [
       "<Figure size 432x288 with 1 Axes>"
      ]
     },
     "metadata": {
      "needs_background": "light"
     },
     "output_type": "display_data"
    },
    {
     "data": {
      "image/png": "[encoded data removed]",
      "text/plain": [
       "<Figure size 432x288 with 1 Axes>"
      ]
     },
     "metadata": {
      "needs_background": "light"
     },
     "output_type": "display_data"
    }
   ],
   "source": [
    "# determine velocity\n",
    "k = 1\n",
    "h = t[1] - t[0]\n",
    "dy = Derivative(y,h,k)\n",
    "pl.plot(t[:-k],dy,c='Red')\n",
    "pl.grid()\n",
    "pl.show()\n",
    "\n",
    "# determine acceleration\n",
    "k = 2\n",
    "dy = Derivative(y,h,k)\n",
    "pl.plot(t[:-k],dy,c='Blue')\n",
    "pl.grid()\n",
    "pl.show()"
   ]
  },
  {
   "cell_type": "code",
   "execution_count": null,
   "metadata": {},
   "outputs": [],
   "source": []
  },
  {
   "cell_type": "markdown",
   "metadata": {},
   "source": [
    "# Task D"
   ]
  },
  {
   "cell_type": "code",
   "execution_count": 47,
   "metadata": {},
   "outputs": [],
   "source": [
    "# Gauss-Legendre quadrature nodes and weights\n",
    "tg = np.array([ [0],\n",
    "     [1/np.sqrt(3), -1/np.sqrt(3)], \\\n",
    "     [0, np.sqrt(3/5), -np.sqrt(3/5)], \\\n",
    "     [np.sqrt(3/7-2/7*np.sqrt(6/5)), -np.sqrt(3/7-2/7*np.sqrt(6/5)), \\\n",
    "            np.sqrt(3/7+2/7*np.sqrt(6/5)), -np.sqrt(3/7+2/7*np.sqrt(6/5))], \\\n",
    "     [0, 1/3*np.sqrt(5-2*np.sqrt(10/7)), -1/3*np.sqrt(5-2*np.sqrt(10/7)), \\\n",
    "     1/3*np.sqrt(5+2*np.sqrt(10/7)), -1/3*np.sqrt(5+2*np.sqrt(10/7))] ] )\n",
    "\n",
    "wg = np.array([ [2], \\\n",
    "     [1, 1], \\\n",
    "     [8/9, 5/9, 5/9], \\\n",
    "     [(18+np.sqrt(30))/36, (18+np.sqrt(30))/36, (18-np.sqrt(30))/36, (18-np.sqrt(30))/36], \\\n",
    "     [128/225, (322+13*np.sqrt(70))/900, (322+13*np.sqrt(70))/900, \\\n",
    "      (322-13*np.sqrt(70))/900, (322-13*np.sqrt(70))/900] ])\n",
    "\n"
   ]
  },
  {
   "cell_type": "code",
   "execution_count": 48,
   "metadata": {},
   "outputs": [
    {
     "name": "stdout",
     "output_type": "stream",
     "text": [
      "0.7853981599711881\n"
     ]
    }
   ],
   "source": [
    "# Gauss-Legendre quadrature (integration)\n",
    "n = 5\n",
    "a = 0\n",
    "b = 1\n",
    "\n",
    "S = 0\n",
    "for i in range(0,n):\n",
    "    x = 0.5*(a*(1-tg[n-1][i])+b*(tg[n-1][i]+1))\n",
    "    S += f(x) * wg[n-1][i]\n",
    "    \n",
    "S = (b-a)/2*S\n",
    "\n",
    "print(S)"
   ]
  },
  {
   "cell_type": "code",
   "execution_count": null,
   "metadata": {},
   "outputs": [],
   "source": []
  }
 ],
 "metadata": {
  "kernelspec": {
   "display_name": "Python 3",
   "language": "python",
   "name": "python3"
  },
  "language_info": {
   "codemirror_mode": {
    "name": "ipython",
    "version": 3
   },
   "file_extension": ".py",
   "mimetype": "text/x-python",
   "name": "python",
   "nbconvert_exporter": "python",
   "pygments_lexer": "ipython3",
   "version": "3.7.4"
  }
 },
 "nbformat": 4,
 "nbformat_minor": 2
}
