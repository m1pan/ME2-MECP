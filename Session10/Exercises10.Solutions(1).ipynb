{
 "cells": [
  {
   "cell_type": "code",
   "execution_count": 1,
   "metadata": {},
   "outputs": [],
   "source": [
    "import numpy as np\n",
    "import math as mt\n",
    "import matplotlib.pyplot as pl\n",
    "from mpl_toolkits import mplot3d\n",
    "import random as rn"
   ]
  },
  {
   "cell_type": "markdown",
   "metadata": {},
   "source": [
    "# Task A"
   ]
  },
  {
   "cell_type": "code",
   "execution_count": 9,
   "metadata": {},
   "outputs": [],
   "source": [
    "def func(x):\n",
    "    y = x**2 + (x-2)**3 - 4\n",
    "    return y"
   ]
  },
  {
   "cell_type": "code",
   "execution_count": 10,
   "metadata": {},
   "outputs": [],
   "source": [
    "def mybisection(a,b,eps):\n",
    "    # repeat the split of teh interval until the bracketing intervla becomes smaller than the accuracy\n",
    "    while abs(a-b)>eps:\n",
    "        # calculate the mid point\n",
    "        xm = (a + b) / 2\n",
    "        # establish in which subinterval the solution lies\n",
    "        # compute f(a) * f(xm)\n",
    "        ff = func(a) * func(xm)\n",
    "        if ff < 0: \n",
    "            # the solution lies in the left interval\n",
    "            # set the upper bracket as xm\n",
    "            b = xm\n",
    "        else:\n",
    "            # the solution lies in the right interval\n",
    "            # set the lower bracket as xm\n",
    "            a = xm\n",
    "            \n",
    "    # the true solution is bracketed within the latest interval [a,b]\n",
    "    # we can approximate it with the midpoint\n",
    "    sol = (a + b) / 2\n",
    "    \n",
    "    return sol"
   ]
  },
  {
   "cell_type": "code",
   "execution_count": 11,
   "metadata": {},
   "outputs": [
    {
     "name": "stdout",
     "output_type": "stream",
     "text": [
      "2.000274658203125\n"
     ]
    },
    {
     "data": {
      "image/png": "[encoded data removed]",
      "text/plain": [
       "<Figure size 640x480 with 1 Axes>"
      ]
     },
     "metadata": {},
     "output_type": "display_data"
    }
   ],
   "source": [
    "x = np.linspace(-2,2,100)\n",
    "y = x**2 + (x-2)**3 - 4\n",
    "pl.plot(x,y)\n",
    "pl.grid()\n",
    "\n",
    "\n",
    "sol = mybisection(-5,8,0.001)\n",
    "print(sol)"
   ]
  },
  {
   "cell_type": "markdown",
   "metadata": {},
   "source": [
    "# Task B"
   ]
  },
  {
   "cell_type": "code",
   "execution_count": 12,
   "metadata": {},
   "outputs": [],
   "source": [
    "# Newton-Raphson method\n",
    "def myNewton(x0,eps):\n",
    "    # set a dx step\n",
    "    dx = 0.1\n",
    "    # set initial guess as solution\n",
    "    xn = x0\n",
    "    # set the error large enough, to enter the loop once\n",
    "    err = 10*eps\n",
    "    # repeat while the error is too large\n",
    "    while err>eps:\n",
    "        # set the current solution as old solution\n",
    "        xp = xn\n",
    "        # evaluate the function at xn and xn+dx\n",
    "        fxn = func(xn)\n",
    "        fxndx = func(xn+dx)\n",
    "        # compute derivative\n",
    "        dfxn = (fxndx - fxn)/ dx\n",
    "        # apply NR method\n",
    "        xn = xp - fxn/dfxn\n",
    "        # assess the error\n",
    "        err = abs(xn-xp)\n",
    "    return xn"
   ]
  },
  {
   "cell_type": "code",
   "execution_count": 13,
   "metadata": {},
   "outputs": [
    {
     "name": "stdout",
     "output_type": "stream",
     "text": [
      "2.000063398781181\n"
     ]
    }
   ],
   "source": [
    "sol = myNewton(1,0.01)\n",
    "print(sol)"
   ]
  },
  {
   "cell_type": "markdown",
   "metadata": {},
   "source": [
    "# Task C"
   ]
  },
  {
   "cell_type": "code",
   "execution_count": 14,
   "metadata": {},
   "outputs": [],
   "source": [
    "# set of functions of the system\n",
    "def sysfuncs(X):\n",
    "    # X is a one dimensional vector with as many elements as the number of functions, i.e. u, v, etc.\n",
    "    # define a vector for the output\n",
    "    UV = np.ndarray(len(X))\n",
    "    # evaluate all the functions at point X\n",
    "    # X is a vector long as the number of independent variables, i.e. x, y, etc.\n",
    "    # alter and write here the various functions\n",
    "    UV[0] = X[0]**2 + 1 - X[1]\n",
    "    UV[1] = 2*np.cos(X[0]) - X[1]\n",
    "    return UV"
   ]
  },
  {
   "cell_type": "code",
   "execution_count": 15,
   "metadata": {},
   "outputs": [],
   "source": [
    "# this function computes the Jacobian of a set of functions\n",
    "def Jacobian(X,Dx):\n",
    "    # establish how many functions/independent variables, aka the size of the Jacobian\n",
    "    N = len(X)\n",
    "    # set an empty array N x N\n",
    "    Jac = np.ndarray((N,N))\n",
    "    # calculate and fill column by column, i.e. derivative of each function with respect to the same\n",
    "    # independent variable\n",
    "    # We will apply the central difference scheme for the derivative:\n",
    "    # df/dx = (f at successive point - f at previous point) / dx\n",
    "    for i in range(N):\n",
    "        # set the successive point for the independend variable in question\n",
    "        X[i] += Dx[i]\n",
    "        # evaluate all the functions at this point\n",
    "        Fplus = sysfuncs(X)\n",
    "        # set the precedent point for the independend variable in question\n",
    "        X[i] -= 2*Dx[i]\n",
    "        # evaluate all the functions at this point\n",
    "        Fminus = sysfuncs(X)\n",
    "        # determine the derivatives for the column ith\n",
    "        Jac[:,i] = (Fplus - Fminus) / (2*Dx[i])\n",
    "    return Jac"
   ]
  },
  {
   "cell_type": "code",
   "execution_count": 16,
   "metadata": {},
   "outputs": [],
   "source": [
    "def MatVect(A,b):\n",
    "    # this function performs matrix-vector multiplication\n",
    "    N = A.shape[0]\n",
    "    y = np.zeros(N)\n",
    "    for i in range(N):\n",
    "        for k in range(N):\n",
    "            y[i] += A[i,k] * b[k]\n",
    "    return y"
   ]
  },
  {
   "cell_type": "code",
   "execution_count": 17,
   "metadata": {},
   "outputs": [
    {
     "name": "stdout",
     "output_type": "stream",
     "text": [
      "[0.7146209  1.51068328]\n"
     ]
    }
   ],
   "source": [
    "# solve a set of non linear equations\n",
    "# set the accuracy requested\n",
    "eps = 0.001\n",
    "# set the initial guess\n",
    "X0 = np.array([0.2, 1.8])\n",
    "\n",
    "# set dx (of the order of or smaller than eps)\n",
    "Dx = np.array([0.5*eps, 0.5*eps])\n",
    "# set initial guess as solution\n",
    "Xn = X0\n",
    "# set the error large enough, to enter the loop once\n",
    "err = 10*eps\n",
    "# repeat while the error is too large\n",
    "while err > eps:\n",
    "    # set the current solution as old solution\n",
    "    Xp = Xn\n",
    "    # compute teh Jacobian\n",
    "    J = Jacobian(Xn,Dx)\n",
    "    # invert the Jacobian\n",
    "    Jinv = np.linalg.inv(J)\n",
    "    # apply Newton's methods\n",
    "    Xn = Xp - MatVect(Jinv,sysfuncs(Xn))\n",
    "    # assess the error: consider the maximum error, amongst errors for all variables\n",
    "    err = np.max(np.abs(Xn-Xp))\n",
    "\n",
    "\n",
    "print(Xn)"
   ]
  },
  {
   "cell_type": "markdown",
   "metadata": {},
   "source": [
    "# Task D"
   ]
  },
  {
   "cell_type": "code",
   "execution_count": 21,
   "metadata": {},
   "outputs": [
    {
     "name": "stdout",
     "output_type": "stream",
     "text": [
      "Location of maximum (x, y): 0.0 0.0\n",
      "Maximum value of f(x, y): -0.0\n"
     ]
    }
   ],
   "source": [
    "import numpy as np\n",
    "\n",
    "# Define the function\n",
    "def f(x, y):\n",
    "    return 4 * x * y - 2 * x**2 - 4 * y**2 \n",
    "\n",
    "# Starting point\n",
    "x0, y0 = 3, 2\n",
    "\n",
    "# Number of iterations\n",
    "num_iterations = 100\n",
    "\n",
    "\n",
    "\n",
    "\n",
    "# Define the numerical partial derivatives of the function, by using the forward scheme\n",
    "def df_dx(x, y, h=1e-6):\n",
    "    return (f(x + h, y) - f(x, y)) / h\n",
    "\n",
    "def df_dy(x, y, h=1e-6):\n",
    "    return (f(x, y + h) - f(x, y)) / h\n",
    "\n",
    "# Define the numerical second partial derivatives (Hessian matrix), by using the forward scheme\n",
    "def d2f_dx2(x, y, h=1e-6):\n",
    "    return (df_dx(x + h, y) - df_dx(x, y)) / h\n",
    "\n",
    "def d2f_dy2(x, y, h=1e-6):\n",
    "    return (df_dy(x, y + h) - df_dy(x, y)) / h\n",
    "\n",
    "def d2f_dxdy(x, y, h=1e-6):\n",
    "    return (df_dy(x + h, y) - df_dy(x, y)) / h\n",
    "\n",
    "\n",
    "# Optimization loop\n",
    "for i in range(num_iterations):\n",
    "    # Compute the gradient at the current point\n",
    "    grad_x = df_dx(x0, y0)\n",
    "    grad_y = df_dy(x0, y0)\n",
    "    \n",
    "    # Compute the Hessian matrix at the current point\n",
    "    Hessian = np.array([[d2f_dx2(x0, y0), d2f_dxdy(x0, y0)],\n",
    "                        [d2f_dxdy(x0, y0), d2f_dy2(x0, y0)]])\n",
    "    \n",
    "    # Compute the inverse of the Hessian matrix\n",
    "    inv_Hessian = np.linalg.inv(Hessian)\n",
    "    \n",
    "    # Compute the search direction\n",
    "    search_direction = np.dot(-inv_Hessian, np.array([grad_x, grad_y]))\n",
    "    \n",
    "    # Update the current point using the search direction and a predetermined step size\n",
    "    alpha = 0.1  # Predetermined step size\n",
    "    x0 += alpha * search_direction[0]\n",
    "    y0 += alpha * search_direction[1]\n",
    "\n",
    "# Print the final point and the maximum value\n",
    "print(\"Location of maximum (x, y):\", round(x0, 2), round(y0, 2))\n",
    "print(\"Maximum value of f(x, y):\", round(f(x0, y0), 2))"
   ]
  },
  {
   "cell_type": "markdown",
   "metadata": {},
   "source": [
    "# Optional Task"
   ]
  },
  {
   "cell_type": "code",
   "execution_count": 20,
   "metadata": {},
   "outputs": [
    {
     "name": "stdout",
     "output_type": "stream",
     "text": [
      "Optimization terminated successfully    (Exit mode 0)\n",
      "            Current function value: -78.69961776285409\n",
      "            Iterations: 6\n",
      "            Function evaluations: 18\n",
      "            Gradient evaluations: 6\n",
      "First project: 41.858k\n",
      "Second project:20.000k\n"
     ]
    }
   ],
   "source": [
    "import numpy as np\n",
    "from scipy.optimize import minimize\n",
    "\n",
    "def objfunc(x):\n",
    "    x1 = x[0]\n",
    "    x2 = x[1]\n",
    "\n",
    "    return -(1.2*x1 + x1 ** 0.5 + 1.1*x2)\n",
    "\n",
    "def c1(x):\n",
    "    return 100 - x[0] - x[1]\n",
    "\n",
    "def c2(x):\n",
    "    return 50 - x[0] - x[1]**0.7\n",
    "\n",
    "constraints = (\n",
    "    {'type': 'ineq', 'fun': c1 },\n",
    "    {'type': 'ineq', 'fun': c2}\n",
    ")\n",
    "\n",
    "bounds = ((0, None), (0, 20))\n",
    "x0 = (10, 10)\n",
    "\n",
    "res = minimize(objfunc, x0, bounds=bounds, constraints=constraints, options={'disp':True})\n",
    "\n",
    "print(f\"First project: {res.x[0]:.3f}k\")\n",
    "print(f\"Second project:{res.x[1]:.3f}k\")"
   ]
  },
  {
   "cell_type": "code",
   "execution_count": 22,
   "metadata": {},
   "outputs": [
    {
     "name": "stdout",
     "output_type": "stream",
     "text": [
      "Location of maximum (x, y): 0.0 0.0\n",
      "Maximum value of f(x, y): -0.0\n"
     ]
    }
   ],
   "source": [
    "# Analytical method\n",
    "\n",
    "import numpy as np\n",
    "\n",
    "# Define the function\n",
    "def f(x, y):\n",
    "    return 4 * x * y - 2 * x**2 - 4 * y**2 \n",
    "\n",
    "# Define the partial derivatives of the function\n",
    "def df_dx(x, y):\n",
    "    return 4 * y - 4 * x\n",
    "\n",
    "def df_dy(x, y):\n",
    "    return 4 * x - 8 * y\n",
    "\n",
    "# Define the second partial derivatives (Hessian matrix)\n",
    "def d2f_dx2(x, y):\n",
    "    return -4\n",
    "\n",
    "def d2f_dy2(x, y):\n",
    "    return -8\n",
    "\n",
    "def d2f_dxdy(x, y):\n",
    "    return 4\n",
    "\n",
    "# Starting point\n",
    "x0, y0 = 3, 2\n",
    "\n",
    "# Number of iterations\n",
    "num_iterations = 100\n",
    "\n",
    "# Optimization loop\n",
    "for i in range(num_iterations):\n",
    "    # Compute the gradient at the current point\n",
    "    grad_x = df_dx(x0, y0)\n",
    "    grad_y = df_dy(x0, y0)\n",
    "    \n",
    "    # Compute the Hessian matrix at the current point\n",
    "    Hessian = np.array([[d2f_dx2(x0, y0), d2f_dxdy(x0, y0)],\n",
    "                        [d2f_dxdy(x0, y0), d2f_dy2(x0, y0)]])\n",
    "    \n",
    "    # Compute the inverse of the Hessian matrix\n",
    "    inv_Hessian = np.linalg.inv(Hessian)\n",
    "    \n",
    "    # Compute the search direction\n",
    "    search_direction = np.dot(-inv_Hessian, np.array([grad_x, grad_y]))\n",
    "    \n",
    "    # Update the current point using the search direction and a predetermined step size\n",
    "    alpha = 0.1  # Predetermined step size\n",
    "    x0 += alpha * search_direction[0]\n",
    "    y0 += alpha * search_direction[1]\n",
    "\n",
    "# Print the final point and the maximum value\n",
    "print(\"Location of maximum (x, y):\", round(x0, 2), round(y0, 2))\n",
    "print(\"Maximum value of f(x, y):\", round(f(x0, y0), 2))\n"
   ]
  }
 ],
 "metadata": {
  "kernelspec": {
   "display_name": "Python 3 (ipykernel)",
   "language": "python",
   "name": "python3"
  },
  "language_info": {
   "codemirror_mode": {
    "name": "ipython",
    "version": 3
   },
   "file_extension": ".py",
   "mimetype": "text/x-python",
   "name": "python",
   "nbconvert_exporter": "python",
   "pygments_lexer": "ipython3",
   "version": "3.11.8"
  }
 },
 "nbformat": 4,
 "nbformat_minor": 2
}
