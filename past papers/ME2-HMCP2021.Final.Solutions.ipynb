{
 "cells": [
  {
   "cell_type": "code",
   "execution_count": null,
   "metadata": {},
   "outputs": [],
   "source": [
    "# enter CID\n",
    "CID = '08020121'\n",
    "\n",
    "\n",
    "b = []\n",
    "for i in range(0,8):\n",
    "    b += [int(CID[i])]\n",
    "print('CID')\n",
    "print(b)"
   ]
  },
  {
   "cell_type": "code",
   "execution_count": 5,
   "metadata": {},
   "outputs": [],
   "source": [
    "import numpy as np\n",
    "import matplotlib.pyplot as pl\n",
    "import math as mt"
   ]
  },
  {
   "cell_type": "code",
   "execution_count": 6,
   "metadata": {},
   "outputs": [],
   "source": [
    "# Simpson\n",
    "def Simpson(h,yn):\n",
    "    # number of nodal pointa\n",
    "    N = len(yn)\n",
    "    # initialise sum\n",
    "    S = 0\n",
    "    # loop every two points, and use the three points for Simpson rule\n",
    "    # current point yn[i] and successive two points yn[i+1], yn[i+2]\n",
    "    for i in range(0,N-2,2):\n",
    "        S += h/3 * ( yn[i] + 4*yn[i+1] + yn[i+2] )\n",
    "    return S"
   ]
  },
  {
   "cell_type": "code",
   "execution_count": 8,
   "metadata": {},
   "outputs": [
    {
     "name": "stdout",
     "output_type": "stream",
     "text": [
      "-1.8699704195284717\n"
     ]
    }
   ],
   "source": [
    "# Task A\n",
    "\n",
    "# set the step intervals in x and y\n",
    "dx = 0.05\n",
    "dy = 0.04\n",
    "\n",
    "# set the x range, not including the boundaries\n",
    "x = np.arange(0,np.pi+dx,dx)\n",
    "N = len(x)\n",
    "# the y range depends of the various values of x, and cannot be fixed here\n",
    "\n",
    "# integrate in dy, for all the value of x, i.e. find G(x)\n",
    "\n",
    "G = np.zeros(N)\n",
    "# for every x\n",
    "for i in range(0,N):\n",
    "    # determine the upper boundary for this x\n",
    "    px = -x[i]+np.pi\n",
    "    # set the y points for this x\n",
    "    y = np.arange(0,px+dy,dy)\n",
    "    z = np.zeros(len(y))\n",
    "    # determine the values of the function z(x,y)\n",
    "    for j in range(0,len(y)):\n",
    "        z[j]=np.sin(x[i]*y[j])*np.cos(x[i]+y[j])\n",
    "    \n",
    "    # integrate in dy from 0 to px (for this specific x)\n",
    "    G[i] = Simpson(dy,z) # G(x)\n",
    "\n",
    "# integrate G(x) in dx\n",
    "I =  Simpson(dx,G)\n",
    "\n",
    "print(I)\n",
    "\n"
   ]
  },
  {
   "cell_type": "code",
   "execution_count": 2,
   "metadata": {},
   "outputs": [
    {
     "data": {
      "image/png": "[encoded data removed]",
      "text/plain": [
       "<Figure size 432x288 with 1 Axes>"
      ]
     },
     "metadata": {
      "needs_background": "light"
     },
     "output_type": "display_data"
    }
   ],
   "source": [
    "# preliminary work out for Task B to generate data sets\n",
    "dx1 = 0.5\n",
    "xn1 = np.arange(0,10+dx1,dx1)\n",
    "dx2 = 0.6\n",
    "xn2 = np.arange(0,10+dx2,dx2)\n",
    "\n",
    "yn1 = 5*abs(np.sin(2*xn1*np.pi/5))\n",
    "yn1 = 10*np.exp(-(xn1-5.75)**2)\n",
    "yn2 = -10*np.exp(-(xn2-3.75)**2)\n",
    "\n",
    "pl.scatter(xn1,yn1)\n",
    "pl.scatter(xn2,yn2)\n",
    "\n",
    "f = open('Sety1.txt','w')\n",
    "for i in yn1:\n",
    "    f.write(str(int(i))+'\\n')\n",
    "f.close()\n",
    "f = open('Sety2.txt','w')\n",
    "for i in yn2:\n",
    "    f.write(str(int(i))+'\\n')\n",
    "f.close()"
   ]
  },
  {
   "cell_type": "code",
   "execution_count": 3,
   "metadata": {},
   "outputs": [],
   "source": [
    "# Langrangian polynomial\n",
    "# compute the Lagrangian polynomials j, given nodes xn at a given point xp\n",
    "def Lagrangian(j,xn,xp):\n",
    "    # establish the number of nodes\n",
    "    n = len(xn)\n",
    "    # the order of the polynomial will then be n-1\n",
    "    \n",
    "    # set the initial value of the polynomial to 1\n",
    "    L = 1\n",
    "    # range of k is from 0 to n-1 (the order of the polynomial)\n",
    "    for k in range(0,n):\n",
    "        # exclude the case k == j\n",
    "        if k != j:\n",
    "            L *= (xp-xn[k]) / (xn[j]-xn[k])\n",
    "    return L"
   ]
  },
  {
   "cell_type": "code",
   "execution_count": 4,
   "metadata": {},
   "outputs": [
    {
     "data": {
      "image/png": "[encoded data removed]",
      "text/plain": [
       "<Figure size 432x288 with 1 Axes>"
      ]
     },
     "metadata": {
      "needs_background": "light"
     },
     "output_type": "display_data"
    },
    {
     "data": {
      "image/png": "[encoded data removed]",
      "text/plain": [
       "<Figure size 432x288 with 1 Axes>"
      ]
     },
     "metadata": {
      "needs_background": "light"
     },
     "output_type": "display_data"
    }
   ],
   "source": [
    "# Task B\n",
    "dx1 = 0.5\n",
    "xn1 = np.arange(0,10+dx1,dx1)\n",
    "dx2 = 0.6\n",
    "xn2 = np.arange(0,10+dx2,dx2)\n",
    "\n",
    "N1 = len(xn1)\n",
    "N2 = len(xn2)\n",
    "\n",
    "yn1 = np.ndarray(N1)\n",
    "f = open('Sety1.txt','r')\n",
    "temp = f.readlines()\n",
    "f.close\n",
    "for i in range(0,N1):\n",
    "    yn1[i] = float(temp[i].rstrip())\n",
    "    \n",
    "yn2 = np.ndarray(N2)\n",
    "f = open('Sety2.txt','r')\n",
    "temp = f.readlines()\n",
    "f.close\n",
    "for i in range(0,N2):\n",
    "    yn2[i] = float(temp[i].rstrip())\n",
    "    \n",
    "pl.scatter(xn1,yn1)\n",
    "pl.scatter(xn2,yn2) \n",
    "pl.show()\n",
    "\n",
    "# domain of interpolation\n",
    "dx = 0.05\n",
    "x = np.arange(2,8+dx,dx)\n",
    "y = []\n",
    "\n",
    "# interpolate for all the values of x in the interpolating range\n",
    "for xp in x:\n",
    "    # evaluate pn(xp)\n",
    "    yp = 0\n",
    "    # use Langrangian polynomials up to order n, included\n",
    "    for j in range(0,N1):\n",
    "        # compute Lagrangian polynomial of order n\n",
    "        Lj1 = Lagrangian(j,xn1,xp)\n",
    "        yp += yn1[j] * Lj1\n",
    "    for j in range(0,N2):\n",
    "        # compute Lagrangian polynomial of order n\n",
    "        Lj2 = Lagrangian(j,xn2,xp)\n",
    "        yp += yn2[j] * Lj2\n",
    "    # add the current value of yp to the list of y\n",
    "    y += [yp]\n",
    "\n",
    "y = np.array(y)\n",
    "pl.scatter(xn1,yn1)\n",
    "pl.scatter(xn2,yn2)\n",
    "pl.plot(x,y)\n",
    "pl.show()\n"
   ]
  },
  {
   "cell_type": "code",
   "execution_count": null,
   "metadata": {},
   "outputs": [],
   "source": []
  },
  {
   "cell_type": "code",
   "execution_count": 14,
   "metadata": {},
   "outputs": [
    {
     "data": {
      "image/png": "[encoded data removed]",
      "text/plain": [
       "<Figure size 432x288 with 1 Axes>"
      ]
     },
     "metadata": {
      "needs_background": "light"
     },
     "output_type": "display_data"
    }
   ],
   "source": [
    "# Task C\n",
    "def func1(x,y):\n",
    "    f = y[1]\n",
    "    return f\n",
    "def func2(x,y):\n",
    "    f = 2*y[1]/x - 2*y[0]/x**2\n",
    "    return f\n",
    "\n",
    "# System of two ODEs with Forward Euler\n",
    "def FwEulerTwo(Y0,t0,tend,h):\n",
    "    # compose nodal times\n",
    "    t = np.arange(t0,tend+h,h)\n",
    "    # determine the number of time steps\n",
    "    N = len(t)\n",
    "    # allocate output array\n",
    "    Y = np.ndarray((2,N))\n",
    "    # initialise the solution\n",
    "    t[0] = t0\n",
    "    Y[0,0] = Y0[0]\n",
    "    Y[1,0] = Y0[1]\n",
    "    # compute the solution incrementally at subsequent time steps\n",
    "    for n in range(1,N):   \n",
    "        Y[0,n] = Y[0,n-1] + func1(t[n-1],Y[:,n-1]) * h\n",
    "        Y[1,n] = Y[1,n-1] + func2(t[n-1],Y[:,n-1]) * h\n",
    "    return (t,Y)\n",
    "\n",
    "\n",
    "# split the eqn in two sets of first oder eqn\n",
    "#dy/dx = w\n",
    "#dw/dx = dy^2/dx^2 = -5x*dy/dx-(x+7)*sin(x)\n",
    "# let Y[0] be y and Y[1] be w i.e Y[1]=dy/dx:\n",
    "#dY[0]/dx = Y[1]\n",
    "#dY[1]/dx = -5*x*Y[1]-(x+7*sin(x))\n",
    "\n",
    "# set the initial conditions\n",
    "Y0 = np.ndarray(2)\n",
    "\n",
    "Y0[0] = 10  # initial y\n",
    "\n",
    "for a in [0,1,2,4,8]:\n",
    "    Y0[1] = a  # initial dy/dx\n",
    "    (x,Y) = FwEulerTwo(Y0,4,20,0.1)\n",
    "    y = Y[0,:]\n",
    "\n",
    "    pl.plot(x,y)\n",
    "    pl.grid()\n",
    "    \n",
    "pl.show()\n"
   ]
  },
  {
   "cell_type": "code",
   "execution_count": 9,
   "metadata": {},
   "outputs": [],
   "source": [
    "def func(x):\n",
    "    y = x-4-mt.sqrt(16-(x-4)**2)\n",
    "    return y"
   ]
  },
  {
   "cell_type": "code",
   "execution_count": 10,
   "metadata": {},
   "outputs": [],
   "source": [
    "def mybisection(a,b,eps):\n",
    "    # repeat the split of teh interval until the bracketing intervla becomes smaller than the accuracy\n",
    "    while abs(a-b)>eps:\n",
    "        # calculate the mid point\n",
    "        xm = (a + b) / 2\n",
    "        # establish in which subinterval the solution lies\n",
    "        # compute f(a) * f(xm)\n",
    "        ff = func(a) * func(xm)\n",
    "        if ff < 0: \n",
    "            # the solution lies in the left interval\n",
    "            # set the upper bracket as xm\n",
    "            b = xm\n",
    "        else:\n",
    "            # the solution lies in the right interval\n",
    "            # set the lower bracket as xm\n",
    "            a = xm\n",
    "            \n",
    "    # the true solution is bracketed within the latest interval [a,b]\n",
    "    # we can approximate it with the midpoint\n",
    "    sol = (a + b) / 2\n",
    "    \n",
    "    return sol"
   ]
  },
  {
   "cell_type": "code",
   "execution_count": 12,
   "metadata": {},
   "outputs": [
    {
     "name": "stdout",
     "output_type": "stream",
     "text": [
      "6.82861328125 2.82861328125\n"
     ]
    },
    {
     "name": "stderr",
     "output_type": "stream",
     "text": [
      "/Users/ncinosi/opt/anaconda3/lib/python3.7/site-packages/ipykernel_launcher.py:7: MatplotlibDeprecationWarning: Adding an axes using the same arguments as a previous axes currently reuses the earlier instance.  In a future version, a new instance will always be created and returned.  Meanwhile, this warning can be suppressed, and the future behavior ensured, by passing a unique label to each axes instance.\n",
      "  import sys\n"
     ]
    },
    {
     "data": {
      "image/png": "[encoded data removed]",
      "text/plain": [
       "<Figure size 432x288 with 1 Axes>"
      ]
     },
     "metadata": {
      "needs_background": "light"
     },
     "output_type": "display_data"
    }
   ],
   "source": [
    "x = np.linspace(0,8,100)\n",
    "y1 = np.sqrt(16-(x-4)**2)\n",
    "pl.plot(x,y1)\n",
    "y2 = x-4\n",
    "pl.plot(x,y2)\n",
    "pl.grid()\n",
    "pl.axes().set_aspect('equal')\n",
    "\n",
    "\n",
    "sol = mybisection(0,8,0.001)\n",
    "print(sol,(sol-4))"
   ]
  },
  {
   "cell_type": "code",
   "execution_count": null,
   "metadata": {},
   "outputs": [],
   "source": []
  }
 ],
 "metadata": {
  "kernelspec": {
   "display_name": "Python 3",
   "language": "python",
   "name": "python3"
  },
  "language_info": {
   "codemirror_mode": {
    "name": "ipython",
    "version": 3
   },
   "file_extension": ".py",
   "mimetype": "text/x-python",
   "name": "python",
   "nbconvert_exporter": "python",
   "pygments_lexer": "ipython3",
   "version": "3.7.4"
  }
 },
 "nbformat": 4,
 "nbformat_minor": 2
}
