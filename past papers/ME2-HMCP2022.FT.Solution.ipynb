{
 "cells": [
  {
   "cell_type": "code",
   "execution_count": 2,
   "metadata": {},
   "outputs": [],
   "source": [
    "import numpy as np\n",
    "import matplotlib.pyplot as pl"
   ]
  },
  {
   "cell_type": "code",
   "execution_count": null,
   "metadata": {},
   "outputs": [],
   "source": []
  },
  {
   "cell_type": "markdown",
   "metadata": {},
   "source": [
    "# Task A"
   ]
  },
  {
   "cell_type": "code",
   "execution_count": 4,
   "metadata": {},
   "outputs": [],
   "source": [
    "def func(z):\n",
    "    m = np.tan(np.pi/3)\n",
    "    R = 30\n",
    "    x = np.sqrt(2*z*R-z**2)-z/m+R/m\n",
    "    return x"
   ]
  },
  {
   "cell_type": "code",
   "execution_count": 6,
   "metadata": {},
   "outputs": [],
   "source": [
    "def mybisection(a,b,eps):\n",
    "    # repeat the split of teh interval until the bracketing intervla becomes smaller than the accuracy\n",
    "    while abs(a-b)>eps:\n",
    "        # calculate the mid point\n",
    "        xm = (a + b) / 2\n",
    "        # establish in which subinterval the solution lies\n",
    "        # compute f(a) * f(xm)\n",
    "        ff = func(a) * func(xm)\n",
    "        if ff < 0: \n",
    "            # the solution lies in the left interval\n",
    "            # set the upper bracket as xm\n",
    "            b = xm\n",
    "        else:\n",
    "            # the solution lies in the right interval\n",
    "            # set the lower bracket as xm\n",
    "            a = xm\n",
    "            \n",
    "    # the true solution is bracketed within the latest interval [a,b]\n",
    "    # we can approximate it with the midpoint\n",
    "    sol = (a + b) / 2\n",
    "    \n",
    "    return sol"
   ]
  },
  {
   "cell_type": "code",
   "execution_count": 7,
   "metadata": {},
   "outputs": [
    {
     "name": "stdout",
     "output_type": "stream",
     "text": [
      "14.99977776848933 55.980377197265625\n",
      "15.000000000000004 55.98076211353316\n"
     ]
    }
   ],
   "source": [
    "m = np.tan(np.pi/3)\n",
    "R = 30\n",
    "z = mybisection(0,2*R,0.001)\n",
    "x = z/m-R/m\n",
    "print(x,z)\n",
    "\n",
    "# check against the geometrical solution\n",
    "print(R*np.cos(np.pi/3),R*np.sin(np.pi/3)+R)"
   ]
  },
  {
   "cell_type": "code",
   "execution_count": null,
   "metadata": {},
   "outputs": [],
   "source": []
  },
  {
   "cell_type": "markdown",
   "metadata": {},
   "source": [
    "# Task B "
   ]
  },
  {
   "cell_type": "code",
   "execution_count": 3,
   "metadata": {},
   "outputs": [
    {
     "data": {
      "image/png": "[encoded data removed]",
      "text/plain": [
       "<Figure size 432x288 with 1 Axes>"
      ]
     },
     "metadata": {
      "needs_background": "light"
     },
     "output_type": "display_data"
    },
    {
     "data": {
      "image/png": "[encoded data removed]",
      "text/plain": [
       "<Figure size 432x288 with 1 Axes>"
      ]
     },
     "metadata": {
      "needs_background": "light"
     },
     "output_type": "display_data"
    },
    {
     "name": "stdout",
     "output_type": "stream",
     "text": [
      "Ice cream melted after minutes:\n",
      "15.5\n",
      "Courant:\n",
      "0.344 0.18\n"
     ]
    }
   ],
   "source": [
    "# spatial domain (in mm)\n",
    "R = 30\n",
    "dx = 0.5 # spatial increment\n",
    "# greate the spatial grid points\n",
    "x = np.arange(-R,R+dx,dx)\n",
    "Nx = len(x)\n",
    "\n",
    "# temporal domain\n",
    "tend = 3600\n",
    "dt = 1 # temporal increment\n",
    "# create the temporal grid points\n",
    "t = np.arange(0,tend+dt,dt)\n",
    "Nt = len(t)\n",
    "\n",
    "# create the solution matrix\n",
    "T = np.ndarray((Nt,Nx))\n",
    "\n",
    "# set the physics\n",
    "# boundary conditions (fixed temperature at boundaries)\n",
    "Ta = 35\n",
    "Tb = 35\n",
    "# set the initial T for watermelon\n",
    "T[0,:int(Nx/2)] = 2\n",
    "# set the initial T for pistachio\n",
    "T[0,int(Nx/2):] = 6\n",
    "\n",
    "# set the thermal diffusivity\n",
    "alpha = np.ndarray(len(x))\n",
    "# set the diffusivity T for watermelon\n",
    "alpha[:int(Nx/2)] = 4.5e-2\n",
    "# set the diffusivity for pistachio\n",
    "alpha[int(Nx/2):] = 8.6e-2\n",
    "# ================================================\n",
    "\n",
    "averagep = np.average(T[0,int(Nx/2):])\n",
    "averagew = np.average(T[0,:int(Nx/2)])\n",
    "avp = [averagep]\n",
    "avw = [averagew]\n",
    "Tmelt = 15\n",
    "\n",
    "c = alpha * dt / dx**2\n",
    "\n",
    "# compute the solution incrementally at subsequent time steps\n",
    "k = 1\n",
    "while averagep < Tmelt:\n",
    "    # compute at time step p, i.e. t = k * dt\n",
    "    # do it for every node in the spatial grid\n",
    "    # start with the boundaries\n",
    "    T[k,0] = Ta\n",
    "    T[k,-1] = Tb\n",
    "    # do the interior nodes\n",
    "    for i in range(1,Nx-1):\n",
    "        # apply the discretised equation\n",
    "        T[k,i] = c[i] * ( T[k-1,i+1] + T[k-1,i-1] ) + (1 - 2*c[i]) * T[k-1,i]\n",
    "    averagep = np.average( T[k,int(Nx/2):])\n",
    "    averagew = np.average( T[k,:int(Nx/2)])\n",
    "    avp += [averagep]\n",
    "    avw += [averagew]\n",
    "    k += 1\n",
    "\n",
    "\n",
    "pl.plot(x,T[k-1,:])\n",
    "pl.grid()\n",
    "pl.show()\n",
    "\n",
    "\n",
    "pl.plot(t[:k],avp,c='Green')\n",
    "pl.plot(t[:k],avw,c='Red')\n",
    "pl.grid()\n",
    "pl.show()\n",
    "\n",
    "print('Ice cream melted after minutes:')\n",
    "print((k-1)*dt/60)\n",
    "\n",
    "print('Courant:')\n",
    "print(c[-1],c[0])\n",
    "\n"
   ]
  },
  {
   "cell_type": "code",
   "execution_count": null,
   "metadata": {},
   "outputs": [],
   "source": []
  },
  {
   "cell_type": "markdown",
   "metadata": {},
   "source": [
    "# Task C"
   ]
  },
  {
   "cell_type": "code",
   "execution_count": 10,
   "metadata": {},
   "outputs": [],
   "source": [
    "# Langrangian polynomial\n",
    "# compute the Lagrangian polynomials j, given nodes xn at a given point xp\n",
    "def Lagrangian(j,xn,xp):\n",
    "    # establish the number of nodes\n",
    "    n = len(xn)\n",
    "    # the order of the polynomial will then be n-1\n",
    "    \n",
    "    # set the initial value of the polynomial to 1\n",
    "    L = 1\n",
    "    # range of k is from 0 to n-1 (the order of the polynomial)\n",
    "    for k in range(0,n):\n",
    "        # exclude the case k == j\n",
    "        if k != j:\n",
    "            L *= (xp-xn[k]) / (xn[j]-xn[k])\n",
    "    return L"
   ]
  },
  {
   "cell_type": "code",
   "execution_count": 11,
   "metadata": {},
   "outputs": [],
   "source": [
    "def LagInterp(xn,yn,x):\n",
    "    N = len(xn)\n",
    "    # establish the order of the interpolating polynomial, N-1\n",
    "    n = N - 1\n",
    "    y = np.ndarray(len(x))\n",
    "    # interpolate for all the values of x in the interpolating range\n",
    "    for i in range(len(x)):\n",
    "        # evaluate pn(xp)\n",
    "        yp = 0\n",
    "        # use Langrangian polynomial up to n, included\n",
    "        for j in range(0,n+1):\n",
    "            yp += yn[j] * Lagrangian(j,xn,x[i])\n",
    "        # add the curren value of yp to the list of y\n",
    "        y[i] = yp\n",
    "    return y"
   ]
  },
  {
   "cell_type": "code",
   "execution_count": 12,
   "metadata": {},
   "outputs": [
    {
     "name": "stdout",
     "output_type": "stream",
     "text": [
      "960\n"
     ]
    },
    {
     "data": {
      "image/png": "[encoded data removed]",
      "text/plain": [
       "<Figure size 432x288 with 1 Axes>"
      ]
     },
     "metadata": {
      "needs_background": "light"
     },
     "output_type": "display_data"
    }
   ],
   "source": [
    "# preliminary workout for Task B to generate data sets (not part of the solutions)\n",
    "dx = 0.01\n",
    "xn1 = np.arange(np.pi/4,2.8*np.pi,dx)\n",
    "yn1 = np.abs(np.sin(xn1))\n",
    "xn2 = np.arange(2.8*np.pi,3.3*np.pi,dx)\n",
    "yn2 = np.sin(xn2+0.4*np.pi) + ( np.abs(np.sin(2.8*np.pi))+np.abs(np.sin(3.2*np.pi)) )\n",
    "\n",
    "xni = np.concatenate((xn1,xn2),axis=0)\n",
    "yni = np.concatenate((yn1,yn2),axis=0)\n",
    "\n",
    "pl.plot(xni*4.0-22.0,yni)\n",
    "print(len(xni))\n",
    "xn = np.concatenate((xni[0:100:50],xni[100:800:100],xni[800:-1:50]),axis=0)\n",
    "yn = np.concatenate((yni[0:100:50],yni[100:800:100],yni[800:-1:50]),axis=0)\n",
    "xn = xn*4.0-22.0\n",
    "pl.scatter(xn,yn,c='Red')\n",
    "pl.grid()\n",
    "pl.show()\n",
    "\n",
    "f = open('LogoXn.txt','w')\n",
    "for i in xn:\n",
    "    f.write(str(i)+'\\n')\n",
    "f.close()\n",
    "f = open('LogoYn.txt','w')\n",
    "for i in yn:\n",
    "    f.write(str(i)+'\\n')\n",
    "f.close()"
   ]
  },
  {
   "cell_type": "code",
   "execution_count": 13,
   "metadata": {},
   "outputs": [
    {
     "data": {
      "image/png": "[encoded data removed]",
      "text/plain": [
       "<Figure size 432x288 with 1 Axes>"
      ]
     },
     "metadata": {
      "needs_background": "light"
     },
     "output_type": "display_data"
    },
    {
     "data": {
      "image/png": "[encoded data removed]",
      "text/plain": [
       "<Figure size 432x288 with 1 Axes>"
      ]
     },
     "metadata": {
      "needs_background": "light"
     },
     "output_type": "display_data"
    }
   ],
   "source": [
    "f = open('LogoXn.txt','r')\n",
    "temp = f.readlines()\n",
    "f.close\n",
    "xn = []\n",
    "for value in temp:\n",
    "    xn += [float(value.rstrip())]\n",
    "xn = np.array(xn)\n",
    "\n",
    "f = open('LogoYn.txt','r')\n",
    "temp = f.readlines()\n",
    "f.close\n",
    "yn = []\n",
    "for value in temp:\n",
    "    yn += [float(value.rstrip())]\n",
    "yn = np.array(yn)\n",
    "\n",
    "\n",
    "# set the domain of interpolation\n",
    "x = np.arange(-19.0,20.0,0.5)\n",
    "y = LagInterp(xn,yn,x)\n",
    "\n",
    "\n",
    "# plot polynomial in the interpolating range\n",
    "pl.scatter(x,y,c='Red')\n",
    "# plot the initial nodal info only\n",
    "pl.scatter(xn,yn,c='Blue')\n",
    "pl.grid()\n",
    "pl.show()\n",
    "\n",
    "# plot polynomial in the interpolating range\n",
    "pl.scatter(xn,yn,c='Blue')\n",
    "pl.grid()\n",
    "pl.show()\n",
    "\n",
    "\n"
   ]
  },
  {
   "cell_type": "code",
   "execution_count": null,
   "metadata": {},
   "outputs": [],
   "source": []
  },
  {
   "cell_type": "markdown",
   "metadata": {},
   "source": [
    "# Task D"
   ]
  },
  {
   "cell_type": "code",
   "execution_count": 10,
   "metadata": {},
   "outputs": [],
   "source": [
    "# function trapzeqd: compute numerical integration with trapezium rule with equidistant nodes\n",
    "def trapzeqd(x,y):\n",
    "    # get the interval h: distance between any two consecutives nodes\n",
    "    h = x[1] - x[0]\n",
    "    # get the number of intervals\n",
    "    N = len(x) - 1  # obviously x and y must have same length\n",
    "    \n",
    "    # compute the integral\n",
    "    \n",
    "    # compute the sum for the intermediate points\n",
    "    S = 0.0\n",
    "    for n in range(1,N):\n",
    "        S += y[n]  # add the current calue of y\n",
    "    # add first and last points: see the formula for trapezoidal method\n",
    "    I = h * (y[0]/2 + S + y[-1]/2 )\n",
    "    \n",
    "    # an alternative approach, with slicing and the function np.sum(), the integral can be computed within one line\n",
    "    I = h * (y[0]/2 + np.sum(y[1:-1]) + y[-1]/2 )\n",
    "    \n",
    "    return I"
   ]
  },
  {
   "cell_type": "code",
   "execution_count": 15,
   "metadata": {},
   "outputs": [
    {
     "name": "stdout",
     "output_type": "stream",
     "text": [
      "141076.7187500038\n",
      "141371.6694115407\n"
     ]
    }
   ],
   "source": [
    "# set dimensions (in mm)\n",
    "H = 150\n",
    "R = 30\n",
    "\n",
    "# set discretising steps\n",
    "dx = 0.05\n",
    "dy = 0.05\n",
    "dz = 5\n",
    "\n",
    "# integrate for every z\n",
    "# create the z range\n",
    "zr = np.arange(dz,H+dz,dz)\n",
    "# determine all the circular sections surfaces\n",
    "Iz = []\n",
    "for z in zr:\n",
    "    # integrate along x\n",
    "    Rz = 0.2*z\n",
    "    # define the x range\n",
    "    xr = np.arange(-Rz+dx,Rz,dx)\n",
    "    Ix = []\n",
    "    for x in xr:\n",
    "        # integrate along y\n",
    "        # define the y range\n",
    "        m = np.sqrt(Rz**2-x**2)\n",
    "        yr = np.arange(-m+dy,m,dy)\n",
    "        # define the function to be integrated (all ones)\n",
    "        F = np.ones(len(yr))\n",
    "        # integrate with trapezium rule along y\n",
    "        Ix += [trapzeqd(yr,F)]\n",
    "    Ix = np.array(Ix)\n",
    "    # integrate with trapezium rule along x\n",
    "    Iz += [trapzeqd(xr,Ix)]        \n",
    "# integrate with trapezium rule along x\n",
    "Iz = np.array(Iz)\n",
    "I = trapzeqd(zr,Iz)      \n",
    "\n",
    "print(I)\n",
    "\n",
    "# double check with analytical formula\n",
    "I = np.pi*R**2*H/3\n",
    "print(I)"
   ]
  },
  {
   "cell_type": "code",
   "execution_count": null,
   "metadata": {},
   "outputs": [],
   "source": []
  },
  {
   "cell_type": "code",
   "execution_count": 13,
   "metadata": {},
   "outputs": [
    {
     "name": "stdout",
     "output_type": "stream",
     "text": [
      "141371.14063690774\n",
      "141371.6694115407\n"
     ]
    }
   ],
   "source": [
    "# set dimensions (in mm)\n",
    "H = 150\n",
    "R = 30\n",
    "\n",
    "# set discretising steps\n",
    "dx = 0.05\n",
    "dy = 0.05\n",
    "\n",
    "c = R/H\n",
    "# define the x range\n",
    "xr = np.arange(-R+dx,R,dx)\n",
    "Ix = []\n",
    "for x in xr:\n",
    "    # integrate along y\n",
    "    # define the y range\n",
    "    m = np.sqrt(R**2-x**2)\n",
    "    yr = np.arange(-m+dy,m,dy)\n",
    "    # define the function to be integrated (all ones)\n",
    "    F = ( 2*H - np.sqrt( 4*H**2-4*(H**2-(x**2+yr**2)/c**2) ) )/2\n",
    "    # integrate with trapezium rule along y\n",
    "    Ix += [trapzeqd(yr,F)]\n",
    "Ix = np.array(Ix)\n",
    "# integrate with trapezium rule along x\n",
    "I = trapzeqd(xr,Ix)      \n",
    "\n",
    "print(I)\n",
    "\n",
    "# double check with analytical formula\n",
    "I = np.pi*R**2*H/3\n",
    "print(I)"
   ]
  },
  {
   "cell_type": "code",
   "execution_count": null,
   "metadata": {},
   "outputs": [],
   "source": []
  }
 ],
 "metadata": {
  "kernelspec": {
   "display_name": "Python 3",
   "language": "python",
   "name": "python3"
  },
  "language_info": {
   "codemirror_mode": {
    "name": "ipython",
    "version": 3
   },
   "file_extension": ".py",
   "mimetype": "text/x-python",
   "name": "python",
   "nbconvert_exporter": "python",
   "pygments_lexer": "ipython3",
   "version": "3.7.4"
  }
 },
 "nbformat": 4,
 "nbformat_minor": 2
}
